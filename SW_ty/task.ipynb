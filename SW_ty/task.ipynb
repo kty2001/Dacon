{
 "cells": [
  {
   "cell_type": "code",
   "execution_count": 9,
   "metadata": {},
   "outputs": [],
   "source": [
    "import os\n",
    "import shutil\n",
    "from tqdm import tqdm\n",
    "import matplotlib.pyplot as plt\n",
    "from sklearn.model_selection import train_test_split\n",
    "import numpy as np\n",
    "import pandas as pd\n",
    "\n",
    "import random\n",
    "import librosa\n",
    "import pickle\n",
    "\n",
    "import torch\n",
    "\n",
    "import warnings\n",
    "warnings.filterwarnings('ignore')"
   ]
  },
  {
   "cell_type": "code",
   "execution_count": 10,
   "metadata": {},
   "outputs": [],
   "source": [
    "class Config:\n",
    "    SR = 32000\n",
    "    N_MFCC = 13\n",
    "    # Dataset\n",
    "    ROOT_FOLDER = './'\n",
    "    # Training\n",
    "    N_CLASSES = 2\n",
    "    BATCH_SIZE = 16\n",
    "    N_EPOCHS = 5\n",
    "    LR = 3e-4\n",
    "    # Others\n",
    "    SEED = 42\n",
    "    \n",
    "CONFIG = Config()\n",
    "\n",
    "def seed_everything(seed):\n",
    "    random.seed(seed)\n",
    "    os.environ['PYTHONHASHSEED'] = str(seed)\n",
    "    np.random.seed(seed)\n",
    "    torch.manual_seed(seed)\n",
    "    torch.cuda.manual_seed(seed)\n",
    "    torch.backends.cudnn.deterministic = True\n",
    "    torch.backends.cudnn.benchmark = True\n",
    "\n",
    "seed_everything(CONFIG.SEED) # Seed 고정"
   ]
  },
  {
   "cell_type": "code",
   "execution_count": 4,
   "metadata": {},
   "outputs": [],
   "source": [
    "df = pd.read_csv('./data/train.csv')\n",
    "train, val, _, _ = train_test_split(df, df['label'], test_size=0.2, random_state=CONFIG.SEED)"
   ]
  },
  {
   "cell_type": "markdown",
   "metadata": {},
   "source": [
    "# Get Features"
   ]
  },
  {
   "cell_type": "code",
   "execution_count": 5,
   "metadata": {},
   "outputs": [],
   "source": [
    "def get_mfcc_feature(df, train_mode=True):\n",
    "    features = []\n",
    "    labels = []\n",
    "    for _, row in tqdm(df.iterrows()):\n",
    "        y, sr = librosa.load(row['path'], sr=CONFIG.SR)\n",
    "        mfcc = librosa.feature.mfcc(y=y, sr=sr, n_mfcc=CONFIG.N_MFCC)\n",
    "        mfcc = np.mean(mfcc.T, axis=0)\n",
    "        features.append(mfcc)\n",
    "\n",
    "        if train_mode:\n",
    "            label = row['label']\n",
    "            label_vector = np.zeros(CONFIG.N_CLASSES, dtype=float)\n",
    "            label_vector[0 if label == 'fake' else 1] = 1\n",
    "            labels.append(label_vector)\n",
    "\n",
    "    if train_mode:\n",
    "        return features, labels\n",
    "    return features"
   ]
  },
  {
   "cell_type": "code",
   "execution_count": null,
   "metadata": {},
   "outputs": [],
   "source": [
    "train_mfcc_features, train_mfcc_labels = get_mfcc_feature(train, True)\n",
    "val_mfcc_features, val_mfcc_labels = get_mfcc_feature(val, True)"
   ]
  },
  {
   "cell_type": "code",
   "execution_count": null,
   "metadata": {},
   "outputs": [],
   "source": [
    "print(type(train_mfcc_features), type(train_mfcc_labels))\n",
    "print(train_mfcc_features)\n",
    "print(train_mfcc_labels)"
   ]
  },
  {
   "cell_type": "code",
   "execution_count": null,
   "metadata": {},
   "outputs": [],
   "source": [
    "with open('data/features/train_mfcc_features.pkl', 'wb') as f:\n",
    "    pickle.dump(train_mfcc_features, f)\n",
    "with open('data/features/train_mfcc_labels.pkl', 'wb') as f:\n",
    "    pickle.dump(train_mfcc_labels, f)\n",
    "with open('data/features/val_mfcc_features.pkl', 'wb') as f:\n",
    "    pickle.dump(val_mfcc_features, f)\n",
    "with open('data/features/val_mfcc_labels.pkl', 'wb') as f:\n",
    "    pickle.dump(val_mfcc_labels, f)"
   ]
  },
  {
   "cell_type": "code",
   "execution_count": null,
   "metadata": {},
   "outputs": [],
   "source": [
    "def get_melspec_feature(df, train_mode=True):\n",
    "    features = []\n",
    "    labels = []\n",
    "    for _, row in tqdm(df.iterrows()):\n",
    "        y, sr = librosa.load(row['path'], sr=CONFIG.SR)\n",
    "        melspec = librosa.feature.melspectrogram(y=y, sr=sr, n_mels=128, fmax=8192)   \n",
    "        melspec_dB = librosa.power_to_db(melspec, ref=np.max)\n",
    "        features.append(melspec_dB)\n",
    "\n",
    "        if train_mode:\n",
    "            label = row['label']\n",
    "            label_vector = np.zeros(CONFIG.N_CLASSES, dtype=float)\n",
    "            label_vector[0 if label == 'fake' else 1] = 1\n",
    "            labels.append(label_vector)\n",
    "\n",
    "    if train_mode:\n",
    "        return features, labels\n",
    "    return features"
   ]
  },
  {
   "cell_type": "code",
   "execution_count": null,
   "metadata": {},
   "outputs": [],
   "source": [
    "train_melspec_features, train_melspec_labels = get_melspec_feature(train, True)\n",
    "val_melspec_features, val_melspec_labels = get_melspec_feature(val, True)"
   ]
  },
  {
   "cell_type": "code",
   "execution_count": null,
   "metadata": {},
   "outputs": [],
   "source": [
    "with open('data/features/train_melspec_features.pkl', 'wb') as f:\n",
    "    pickle.dump(train_melspec_features, f)\n",
    "with open('data/features/train_melspec_labels.pkl', 'wb') as f:\n",
    "    pickle.dump(train_melspec_labels, f)\n",
    "with open('data/features/val_melspec_features.pkl', 'wb') as f:\n",
    "    pickle.dump(val_melspec_features, f)\n",
    "with open('data/features/val_melspec_labels.pkl', 'wb') as f:\n",
    "    pickle.dump(val_melspec_labels, f)"
   ]
  },
  {
   "cell_type": "code",
   "execution_count": null,
   "metadata": {},
   "outputs": [],
   "source": [
    "with open('data/features/train_mfcc_features.pkl', 'rb') as f:\n",
    "    train_mfcc_features = pickle.load(f)\n",
    "with open('data/features/train_mfcc_labels.pkl', 'rb') as f:\n",
    "    train_mfcc_labels = pickle.load(f)\n",
    "with open('data/features/val_mfcc_features.pkl', 'rb') as f:\n",
    "    val_mfcc_features = pickle.load(f)\n",
    "with open('data/features/val_mfcc_labels.pkl', 'rb') as f:\n",
    "    val_mfcc_labels = pickle.load(f)"
   ]
  },
  {
   "cell_type": "code",
   "execution_count": null,
   "metadata": {},
   "outputs": [],
   "source": [
    "with open('data/features/train_melspec_features.pkl', 'rb') as f:\n",
    "    train_melspec_features = pickle.load(f)\n",
    "with open('data/features/train_melspec_labels.pkl', 'rb') as f:\n",
    "    train_melspec_labels = pickle.load(f)\n",
    "with open('data/features/val_melspec_features.pkl', 'rb') as f:\n",
    "    val_melspec_features = pickle.load(f)\n",
    "with open('data/features/val_melspec_labels.pkl', 'rb') as f:\n",
    "    val_melspec_labels = pickle.load(f)"
   ]
  },
  {
   "cell_type": "markdown",
   "metadata": {},
   "source": [
    "# Visualize"
   ]
  },
  {
   "cell_type": "code",
   "execution_count": null,
   "metadata": {},
   "outputs": [],
   "source": [
    "def mfcc_visualize(csv_path, save_path):\n",
    "    if os.path.exists(save_path):\n",
    "        shutil.rmtree(save_path)\n",
    "    os.makedirs(save_path)\n",
    "\n",
    "    df = pd.read_csv(csv_path)\n",
    "\n",
    "    for i in tqdm(range(len(df))):\n",
    "        image_data = df.loc[i]\n",
    "\n",
    "        y, sr = librosa.load(os.path.join('data', image_data['path']), sr=CONFIG.SR)\n",
    "        mfccs = librosa.feature.mfcc(y=y, sr=sr, n_mfcc=CONFIG.N_MFCC)\n",
    "\n",
    "        plt.figure(figsize=(8, 4))\n",
    "        librosa.display.specshow(mfccs, x_axis='time')\n",
    "        plt.axis('off')\n",
    "        plt.tight_layout()\n",
    "        plt.savefig(f\"{save_path}/{image_data['id']}.png\", dpi=300, bbox_inches='tight', pad_inches=0)\n",
    "        plt.close()"
   ]
  },
  {
   "cell_type": "code",
   "execution_count": null,
   "metadata": {},
   "outputs": [],
   "source": [
    "# mfcc_visualize(csv_path=\"data/train_answer.csv\", save_path=\"data/train_mfcc\")\n",
    "# mfcc_visualize(csv_path=\"data/val_answer.csv\", save_path=\"data/val_mfcc\")\n",
    "# mfcc_visualize(csv_path=\"data/test.csv\", save_path=\"data/test_mfcc\")"
   ]
  },
  {
   "cell_type": "code",
   "execution_count": null,
   "metadata": {},
   "outputs": [],
   "source": [
    "def melspec_visualize(csv_path, save_path):\n",
    "    if os.path.exists(save_path):\n",
    "        shutil.rmtree(save_path)\n",
    "    os.makedirs(save_path)\n",
    "\n",
    "    df = pd.read_csv(csv_path)\n",
    "\n",
    "    for i in tqdm(range(len(df))):\n",
    "        image_data = df.loc[i]\n",
    "\n",
    "        y, sr = librosa.load(os.path.join('data', image_data['path']), sr=32000)\n",
    "        melspecs = librosa.feature.melspectrogram(y=y, sr=sr, n_mels=128, fmax=8192)  # n_mels: 멜 필터의 개수, fmax: 주파수 최대값\n",
    "        melspecs_db = librosa.power_to_db(melspecs, ref=np.max)\n",
    "\n",
    "        plt.figure(figsize=(8, 4))\n",
    "        librosa.display.specshow(melspecs_db, x_axis='time', y_axis='mel', sr=sr, fmax=8192)\n",
    "        plt.axis('off')\n",
    "        plt.tight_layout()\n",
    "        plt.savefig(f\"{save_path}/{image_data['id']}.png\", dpi=300, bbox_inches='tight', pad_inches=0)\n",
    "        plt.close()"
   ]
  },
  {
   "cell_type": "code",
   "execution_count": null,
   "metadata": {},
   "outputs": [],
   "source": [
    "# melspec_visualize(csv_path=\"train_answer.csv\", save_path=\"train_melspec\")\n",
    "# melspec_visualize(csv_path=\"val_answer.csv\", save_path=\"val_melspec\")\n",
    "# melspec_visualize(csv_path=\"data/test.csv\", save_path=\"data/test_melspec\")"
   ]
  },
  {
   "cell_type": "markdown",
   "metadata": {},
   "source": [
    "# Data preprocessing"
   ]
  },
  {
   "cell_type": "code",
   "execution_count": 18,
   "metadata": {},
   "outputs": [],
   "source": [
    "import soundfile as sf\n",
    "audio_path1 = 'data/train/RUNQPNJF.ogg'\n",
    "audio_path2 = 'data/train/RDKEKEVX.ogg'\n",
    "\n",
    "y1, sr1 = librosa.load(audio_path1, sr=32000)\n",
    "y2, sr2 = librosa.load(audio_path2, sr=32000)\n",
    "\n",
    "max_length = max(len(y1), len(y2))\n",
    "y1 = np.pad(y1, (0, max_length - len(y1)), 'constant')\n",
    "y2 = np.pad(y2, (0, max_length - len(y2)), 'constant')\n",
    "\n",
    "y = y1 + y2\n",
    "\n",
    "S = librosa.feature.melspectrogram(y=y, sr=sr1, n_mels=128, fmax=8192)\n",
    "S_dB = librosa.power_to_db(S, ref=np.max)\n",
    "\n",
    "sf.write(\"example/combine_sound.ogg\", y, sr1)"
   ]
  },
  {
   "cell_type": "code",
   "execution_count": 19,
   "metadata": {},
   "outputs": [
    {
     "name": "stdout",
     "output_type": "stream",
     "text": [
      "(128, 385)\n"
     ]
    }
   ],
   "source": [
    "print(S_dB.shape)"
   ]
  },
  {
   "cell_type": "code",
   "execution_count": 24,
   "metadata": {},
   "outputs": [
    {
     "name": "stdout",
     "output_type": "stream",
     "text": [
      "1\n"
     ]
    }
   ],
   "source": [
    "image_data = pd.read_csv('data/train_answer.csv')\n",
    "if 'label' in image_data.columns:\n",
    "    print(1)\n",
    "else:\n",
    "    print(0)"
   ]
  },
  {
   "cell_type": "code",
   "execution_count": null,
   "metadata": {},
   "outputs": [],
   "source": []
  }
 ],
 "metadata": {
  "kernelspec": {
   "display_name": "SW",
   "language": "python",
   "name": "python3"
  },
  "language_info": {
   "codemirror_mode": {
    "name": "ipython",
    "version": 3
   },
   "file_extension": ".py",
   "mimetype": "text/x-python",
   "name": "python",
   "nbconvert_exporter": "python",
   "pygments_lexer": "ipython3",
   "version": "3.8.19"
  }
 },
 "nbformat": 4,
 "nbformat_minor": 2
}
